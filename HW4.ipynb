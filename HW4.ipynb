{
 "cells": [
  {
   "cell_type": "markdown",
   "metadata": {},
   "source": [
    "# Homework 4\n",
    "---\n",
    "\n",
    "Released on Nov 26 -- due by *Dec 3, 11:59pm*.\n",
    "\n",
    "In this homework assignment we will develop a copy number caller based on a Hidden Markov Model. In addition, we will implement a hierarchical clustering algorithm. The data that we consider is from a previously published [breast tumor](http://dx.doi.org/10.1038/nature09807), from which 100 single cells have been sequenced. In this homework assignment we restrict our attention to a subset of 25 cells.\n",
    "\n",
    "_Instructions:_ There are four questions, worth a total of 100 points. In addition, there are two bonus questions (Q2e and Q4c), each worth 5 points. Insert your answer after each question in the designated box. Replace comments with code.\n",
    "\n",
    "Hand in your work by emailing the Jupyter notebook (please rename as \"LASTNAME_FIRSTNAME.ipynb\") to Anusri and myself.\n",
    "\n",
    "---"
   ]
  },
  {
   "cell_type": "markdown",
   "metadata": {},
   "source": [
    "## Question 1: Data preparation [20 points]\n",
    "\n",
    "We start by parsing the data from `data.tsv` using pandas."
   ]
  },
  {
   "cell_type": "code",
   "execution_count": 1,
   "metadata": {
    "collapsed": true
   },
   "outputs": [],
   "source": [
    "%matplotlib inline\n",
    "import sys\n",
    "import pandas as pd\n",
    "import matplotlib.pyplot as plt\n",
    "import numpy as np\n",
    "from __future__ import print_function"
   ]
  },
  {
   "cell_type": "code",
   "execution_count": 2,
   "metadata": {},
   "outputs": [
    {
     "data": {
      "text/html": [
       "<div>\n",
       "<style>\n",
       "    .dataframe thead tr:only-child th {\n",
       "        text-align: right;\n",
       "    }\n",
       "\n",
       "    .dataframe thead th {\n",
       "        text-align: left;\n",
       "    }\n",
       "\n",
       "    .dataframe tbody tr th {\n",
       "        vertical-align: top;\n",
       "    }\n",
       "</style>\n",
       "<table border=\"1\" class=\"dataframe\">\n",
       "  <thead>\n",
       "    <tr style=\"text-align: right;\">\n",
       "      <th></th>\n",
       "      <th>CHR</th>\n",
       "      <th>START</th>\n",
       "      <th>END</th>\n",
       "      <th>SRR089377</th>\n",
       "      <th>SRR054598</th>\n",
       "      <th>SRR053605</th>\n",
       "      <th>SRR054594</th>\n",
       "      <th>SRR089397</th>\n",
       "      <th>SRR054614</th>\n",
       "      <th>SRR089402</th>\n",
       "      <th>...</th>\n",
       "      <th>SRR054606</th>\n",
       "      <th>SRR054613</th>\n",
       "      <th>SRR053631</th>\n",
       "      <th>SRR054575</th>\n",
       "      <th>SRR053679</th>\n",
       "      <th>SRR054604</th>\n",
       "      <th>SRR053611</th>\n",
       "      <th>SRR053607</th>\n",
       "      <th>SRR053602</th>\n",
       "      <th>SRR054610</th>\n",
       "    </tr>\n",
       "    <tr>\n",
       "      <th>bin</th>\n",
       "      <th></th>\n",
       "      <th></th>\n",
       "      <th></th>\n",
       "      <th></th>\n",
       "      <th></th>\n",
       "      <th></th>\n",
       "      <th></th>\n",
       "      <th></th>\n",
       "      <th></th>\n",
       "      <th></th>\n",
       "      <th></th>\n",
       "      <th></th>\n",
       "      <th></th>\n",
       "      <th></th>\n",
       "      <th></th>\n",
       "      <th></th>\n",
       "      <th></th>\n",
       "      <th></th>\n",
       "      <th></th>\n",
       "      <th></th>\n",
       "      <th></th>\n",
       "    </tr>\n",
       "  </thead>\n",
       "  <tbody>\n",
       "    <tr>\n",
       "      <th>0</th>\n",
       "      <td>chr1</td>\n",
       "      <td>1</td>\n",
       "      <td>1246396</td>\n",
       "      <td>2116</td>\n",
       "      <td>298</td>\n",
       "      <td>573</td>\n",
       "      <td>157</td>\n",
       "      <td>3146</td>\n",
       "      <td>1495</td>\n",
       "      <td>4071</td>\n",
       "      <td>...</td>\n",
       "      <td>854</td>\n",
       "      <td>1583</td>\n",
       "      <td>1106</td>\n",
       "      <td>1847</td>\n",
       "      <td>795</td>\n",
       "      <td>562</td>\n",
       "      <td>1211</td>\n",
       "      <td>636</td>\n",
       "      <td>751</td>\n",
       "      <td>1520</td>\n",
       "    </tr>\n",
       "    <tr>\n",
       "      <th>1</th>\n",
       "      <td>chr1</td>\n",
       "      <td>1246395</td>\n",
       "      <td>1833664</td>\n",
       "      <td>1940</td>\n",
       "      <td>264</td>\n",
       "      <td>660</td>\n",
       "      <td>204</td>\n",
       "      <td>1643</td>\n",
       "      <td>1207</td>\n",
       "      <td>3809</td>\n",
       "      <td>...</td>\n",
       "      <td>651</td>\n",
       "      <td>848</td>\n",
       "      <td>1252</td>\n",
       "      <td>2024</td>\n",
       "      <td>830</td>\n",
       "      <td>584</td>\n",
       "      <td>836</td>\n",
       "      <td>475</td>\n",
       "      <td>673</td>\n",
       "      <td>1185</td>\n",
       "    </tr>\n",
       "    <tr>\n",
       "      <th>2</th>\n",
       "      <td>chr1</td>\n",
       "      <td>1833663</td>\n",
       "      <td>2345598</td>\n",
       "      <td>1767</td>\n",
       "      <td>261</td>\n",
       "      <td>870</td>\n",
       "      <td>237</td>\n",
       "      <td>1655</td>\n",
       "      <td>1621</td>\n",
       "      <td>5418</td>\n",
       "      <td>...</td>\n",
       "      <td>707</td>\n",
       "      <td>1372</td>\n",
       "      <td>1342</td>\n",
       "      <td>2531</td>\n",
       "      <td>1153</td>\n",
       "      <td>874</td>\n",
       "      <td>936</td>\n",
       "      <td>630</td>\n",
       "      <td>818</td>\n",
       "      <td>1366</td>\n",
       "    </tr>\n",
       "    <tr>\n",
       "      <th>3</th>\n",
       "      <td>chr1</td>\n",
       "      <td>2345597</td>\n",
       "      <td>2946628</td>\n",
       "      <td>2246</td>\n",
       "      <td>446</td>\n",
       "      <td>854</td>\n",
       "      <td>265</td>\n",
       "      <td>1564</td>\n",
       "      <td>1838</td>\n",
       "      <td>5625</td>\n",
       "      <td>...</td>\n",
       "      <td>1227</td>\n",
       "      <td>1172</td>\n",
       "      <td>1578</td>\n",
       "      <td>2909</td>\n",
       "      <td>1373</td>\n",
       "      <td>884</td>\n",
       "      <td>1184</td>\n",
       "      <td>604</td>\n",
       "      <td>973</td>\n",
       "      <td>1701</td>\n",
       "    </tr>\n",
       "    <tr>\n",
       "      <th>4</th>\n",
       "      <td>chr1</td>\n",
       "      <td>2946627</td>\n",
       "      <td>3452945</td>\n",
       "      <td>2189</td>\n",
       "      <td>363</td>\n",
       "      <td>883</td>\n",
       "      <td>217</td>\n",
       "      <td>2081</td>\n",
       "      <td>1173</td>\n",
       "      <td>4845</td>\n",
       "      <td>...</td>\n",
       "      <td>687</td>\n",
       "      <td>1371</td>\n",
       "      <td>1562</td>\n",
       "      <td>3235</td>\n",
       "      <td>1053</td>\n",
       "      <td>854</td>\n",
       "      <td>785</td>\n",
       "      <td>649</td>\n",
       "      <td>784</td>\n",
       "      <td>1212</td>\n",
       "    </tr>\n",
       "  </tbody>\n",
       "</table>\n",
       "<p>5 rows × 28 columns</p>\n",
       "</div>"
      ],
      "text/plain": [
       "      CHR    START      END  SRR089377  SRR054598  SRR053605  SRR054594  \\\n",
       "bin                                                                       \n",
       "0    chr1        1  1246396       2116        298        573        157   \n",
       "1    chr1  1246395  1833664       1940        264        660        204   \n",
       "2    chr1  1833663  2345598       1767        261        870        237   \n",
       "3    chr1  2345597  2946628       2246        446        854        265   \n",
       "4    chr1  2946627  3452945       2189        363        883        217   \n",
       "\n",
       "     SRR089397  SRR054614  SRR089402    ...      SRR054606  SRR054613  \\\n",
       "bin                                     ...                             \n",
       "0         3146       1495       4071    ...            854       1583   \n",
       "1         1643       1207       3809    ...            651        848   \n",
       "2         1655       1621       5418    ...            707       1372   \n",
       "3         1564       1838       5625    ...           1227       1172   \n",
       "4         2081       1173       4845    ...            687       1371   \n",
       "\n",
       "     SRR053631  SRR054575  SRR053679  SRR054604  SRR053611  SRR053607  \\\n",
       "bin                                                                     \n",
       "0         1106       1847        795        562       1211        636   \n",
       "1         1252       2024        830        584        836        475   \n",
       "2         1342       2531       1153        874        936        630   \n",
       "3         1578       2909       1373        884       1184        604   \n",
       "4         1562       3235       1053        854        785        649   \n",
       "\n",
       "     SRR053602  SRR054610  \n",
       "bin                        \n",
       "0          751       1520  \n",
       "1          673       1185  \n",
       "2          818       1366  \n",
       "3          973       1701  \n",
       "4          784       1212  \n",
       "\n",
       "[5 rows x 28 columns]"
      ]
     },
     "execution_count": 2,
     "metadata": {},
     "output_type": "execute_result"
    }
   ],
   "source": [
    "df = pd.read_csv(\"data.tsv\", sep=\"\\t\", index_col=0)\n",
    "df.head()"
   ]
  },
  {
   "cell_type": "markdown",
   "metadata": {},
   "source": [
    "This dataset consists of the following 25 cells:"
   ]
  },
  {
   "cell_type": "code",
   "execution_count": 3,
   "metadata": {},
   "outputs": [
    {
     "name": "stdout",
     "output_type": "stream",
     "text": [
      "Cells:\n",
      "SRR089377 SRR054598 SRR053605 SRR054594 SRR089397 \n",
      "SRR054614 SRR089402 SRR053676 SRR053633 SRR053617 \n",
      "SRR054608 SRR053608 SRR054602 SRR089401 SRR053668 \n",
      "SRR054606 SRR054613 SRR053631 SRR054575 SRR053679 \n",
      "SRR054604 SRR053611 SRR053607 SRR053602 SRR054610 "
     ]
    }
   ],
   "source": [
    "cells = list(df.columns[3:])\n",
    "sys.stdout.write(\"Cells:\")\n",
    "for idx, cell in enumerate(cells):\n",
    "    if idx % 5 == 0:\n",
    "        sys.stdout.write(\"\\n\")\n",
    "    sys.stdout.write(cell + \" \")"
   ]
  },
  {
   "cell_type": "markdown",
   "metadata": {},
   "source": [
    "The reads of each cell are put in bins. As seen in the command below, there are 5363 bins."
   ]
  },
  {
   "cell_type": "code",
   "execution_count": 4,
   "metadata": {},
   "outputs": [
    {
     "data": {
      "text/plain": [
       "5363"
      ]
     },
     "execution_count": 4,
     "metadata": {},
     "output_type": "execute_result"
    }
   ],
   "source": [
    "len(df.index)"
   ]
  },
  {
   "cell_type": "markdown",
   "metadata": {},
   "source": [
    "We plot a histogram of the bin sizes as follows, from which we can see that most of the bins have length 500,000."
   ]
  },
  {
   "cell_type": "code",
   "execution_count": 15,
   "metadata": {},
   "outputs": [
    {
     "data": {
      "text/plain": [
       "(400000, 1000000)"
      ]
     },
     "execution_count": 15,
     "metadata": {},
     "output_type": "execute_result"
    },
    {
     "data": {
      "image/png": "[encoded data removed]",
      "text/plain": [
       "<matplotlib.figure.Figure at 0x2be5c0782b0>"
      ]
     },
     "metadata": {},
     "output_type": "display_data"
    }
   ],
   "source": [
    "(df['END'] - df['START'] + 1).hist(bins=1000, xrot=90)\n",
    "plt.xlim((400000, 1000000))"
   ]
  },
  {
   "cell_type": "markdown",
   "metadata": {},
   "source": [
    "### _Q1a:_ What is the minimum, median and maximum bin size? [4 points]"
   ]
  },
  {
   "cell_type": "code",
   "execution_count": 25,
   "metadata": {},
   "outputs": [
    {
     "name": "stdout",
     "output_type": "stream",
     "text": [
      "501688 514870 35387248\n"
     ]
    }
   ],
   "source": [
    "# TODO: insert code to print the min, median and max bin size\n",
    "li = np.array((df['END'] - df['START'] + 1))\n",
    "li = np.sort(li)\n",
    "#print(li)\n",
    "#print(len(li))\n",
    "# c = 0\n",
    "# for i in li:\n",
    "#     if i > 600000:\n",
    "#         c+=1\n",
    "# print(c)\n",
    "max_bin = li[-1]\n",
    "min_bin = li[0]\n",
    "median_bin = li[int(len(li) / 2)]\n",
    "print(min_bin, median_bin, max_bin)"
   ]
  },
  {
   "cell_type": "markdown",
   "metadata": {},
   "source": [
    "_Answer:_ \n",
    "* min: 501688 \n",
    "* median: 514870 \n",
    "* max: 35387248"
   ]
  },
  {
   "cell_type": "markdown",
   "metadata": {},
   "source": [
    "We retain bins with lengths between 450,000 and 500,000 using the following command."
   ]
  },
  {
   "cell_type": "code",
   "execution_count": 26,
   "metadata": {
    "collapsed": true
   },
   "outputs": [],
   "source": [
    "df = df[(450000 <= (df['END'] - df['START'] + 1)) & ((df['END'] - df['START'] + 1) <= 550000)]"
   ]
  },
  {
   "cell_type": "markdown",
   "metadata": {},
   "source": [
    "### _Q1b:_ The column `CHR` contains the chromosome label. Do these cells originate from a male or female patient? [4 points]"
   ]
  },
  {
   "cell_type": "code",
   "execution_count": 65,
   "metadata": {},
   "outputs": [
    {
     "name": "stdout",
     "output_type": "stream",
     "text": [
      "chr1\n",
      "chr2\n",
      "chr3\n",
      "chr4\n",
      "chr5\n",
      "chr6\n",
      "chr7\n",
      "chr8\n",
      "chr9\n",
      "chr10\n",
      "chr11\n",
      "chr12\n",
      "chr13\n",
      "chr14\n",
      "chr15\n",
      "chr16\n",
      "chr17\n",
      "chr18\n",
      "chr19\n",
      "chr20\n",
      "chr21\n",
      "chr22\n",
      "chrX\n",
      "chrY\n"
     ]
    }
   ],
   "source": [
    "# TODO: write code here to print unique list of values in 'CHR' column\n",
    "# print(df[df['CHR'] == \" \"])\n",
    "# print(df.loc[len(df)-1])\n",
    "last = \"\"\n",
    "#allosome \n",
    "for chrom in df['CHR']:\n",
    "    if chrom != last:\n",
    "        print(chrom)\n",
    "        last = chrom"
   ]
  },
  {
   "cell_type": "markdown",
   "metadata": {},
   "source": [
    "_Answer:_ male, have x and y"
   ]
  },
  {
   "cell_type": "markdown",
   "metadata": {},
   "source": [
    "Next, we remove the sex chromosomes such that each bin in a normal cell has copy number 2.\n",
    "### _Q1c:_ How many bins occur on autosomal chromosomes? [4 points]"
   ]
  },
  {
   "cell_type": "code",
   "execution_count": 66,
   "metadata": {},
   "outputs": [
    {
     "name": "stdout",
     "output_type": "stream",
     "text": [
      "['chr1' 'chr2' 'chr3' 'chr4' 'chr5' 'chr6' 'chr7' 'chr8' 'chr9' 'chr10'\n",
      " 'chr11' 'chr12' 'chr13' 'chr14' 'chr15' 'chr16' 'chr17' 'chr18' 'chr19'\n",
      " 'chr20' 'chr21' 'chr22']\n"
     ]
    }
   ],
   "source": [
    "# TODO: insert code to generate a list of chromosome labels corresponding to autosomes, e.g. ['chr1', 'chr2', ...]\n",
    "autosomes = df['CHR'].unique() #df[(df['CHR'] != \"chrX\") | (df['CHR'] != \"chrY\")]\n",
    "autosomes = autosomes[:-2]\n",
    "print(autosomes)"
   ]
  },
  {
   "cell_type": "code",
   "execution_count": 73,
   "metadata": {},
   "outputs": [
    {
     "data": {
      "text/plain": [
       "4718"
      ]
     },
     "execution_count": 73,
     "metadata": {},
     "output_type": "execute_result"
    }
   ],
   "source": [
    "len(df[df['CHR'].isin(autosomes)])"
   ]
  },
  {
   "cell_type": "markdown",
   "metadata": {},
   "source": [
    "_Answer:_ 4718 bins"
   ]
  },
  {
   "cell_type": "code",
   "execution_count": 74,
   "metadata": {
    "collapsed": true
   },
   "outputs": [],
   "source": [
    "# we retain only autosomes\n",
    "df = df[df['CHR'].isin(autosomes)]"
   ]
  },
  {
   "cell_type": "markdown",
   "metadata": {},
   "source": [
    "Due to variablity in library preparation, there are differences in the total number of reads per cell. We construct a new dataframe with the total number of reads, and plot a histogram as follows."
   ]
  },
  {
   "cell_type": "code",
   "execution_count": 75,
   "metadata": {},
   "outputs": [
    {
     "data": {
      "text/plain": [
       "array([[<matplotlib.axes._subplots.AxesSubplot object at 0x000002BE5EDC60B8>]], dtype=object)"
      ]
     },
     "execution_count": 75,
     "metadata": {},
     "output_type": "execute_result"
    },
    {
     "data": {
      "image/png": "[encoded data removed]",
      "text/plain": [
       "<matplotlib.figure.Figure at 0x2be5edb8a58>"
      ]
     },
     "metadata": {},
     "output_type": "display_data"
    }
   ],
   "source": [
    "df_total_reads = pd.DataFrame.from_records([(cell, int(df[cell].sum())) for cell in cells], columns=['cell', 'total'])\n",
    "df_total_reads.hist(column=\"total\", bins=15, xrot=90)"
   ]
  },
  {
   "cell_type": "markdown",
   "metadata": {},
   "source": [
    "### _Q1d:_ Based on the above plot, we decide to exclude the six cells with a total read count of less than 3,000,000 reads. Which six cells are excluded? [4 points]"
   ]
  },
  {
   "cell_type": "code",
   "execution_count": null,
   "metadata": {
    "collapsed": true
   },
   "outputs": [],
   "source": [
    "cells_to_keep = list(df_total_reads[df_total_reads['total'] >= 3000000]['cell'])"
   ]
  },
  {
   "cell_type": "code",
   "execution_count": null,
   "metadata": {
    "collapsed": true
   },
   "outputs": [],
   "source": [
    "# TODO: insert code to filter down to cells with less 3,000,000 reads\n",
    "df_removed_cells = None"
   ]
  },
  {
   "cell_type": "code",
   "execution_count": null,
   "metadata": {
    "collapsed": true
   },
   "outputs": [],
   "source": [
    "df_removed_cells"
   ]
  },
  {
   "cell_type": "markdown",
   "metadata": {},
   "source": [
    "_Answer:_ \n",
    "1. XXX with YYY reads; \n",
    "2. XXX with YYY reads; \n",
    "3. XXX with YYY reads; \n",
    "4. XXX with YYY reads; \n",
    "5. XXX with YYY reads;\n",
    "6. XXX with YYY reads."
   ]
  },
  {
   "cell_type": "code",
   "execution_count": null,
   "metadata": {
    "collapsed": true
   },
   "outputs": [],
   "source": [
    "# we retain only cells with >= 300,000 reads\n",
    "df = df[list(df.columns)[:3] + cells_to_keep]"
   ]
  },
  {
   "cell_type": "markdown",
   "metadata": {},
   "source": [
    "The key concept is that the majority of bins in a cell are diploid. Since the bins have the same length and under the assumption of uniform genome coverage, we expect the most frequent read count, or the mode, to correspond to the diploid state. We identify the mode by discretizing the read counts for each cell into 20 bins. We then divide the read count for each bin in a cell by the mode.\n",
    "\n",
    "### _Q1e:_ Complete the below code fragment to identify the mode of each cell and to subsequently normalize the read counts. [4 points]"
   ]
  },
  {
   "cell_type": "code",
   "execution_count": null,
   "metadata": {
    "collapsed": true
   },
   "outputs": [],
   "source": [
    "nr_bins = 20\n",
    "df2 = df.copy(deep=True)\n",
    "for cell in cells_to_keep:\n",
    "    # insert code to discretize read count (e.g. first integer division by bin_size, then multiply by bin_size)\n",
    "    largest = None\n",
    "    bin_size = None\n",
    "    df2[cell] = None\n",
    "    \n",
    "df_mode = pd.DataFrame.from_records([(cell, int(df2[cell].mode())) for cell in cells_to_keep], \n",
    "                                    columns=['cell', 'mode'])"
   ]
  },
  {
   "cell_type": "code",
   "execution_count": null,
   "metadata": {
    "collapsed": true
   },
   "outputs": [],
   "source": [
    "# TODO: insert code to divide each read count by the mode of the corresponding cell\n",
    "for cell in cells_to_keep:\n",
    "    df[cell] = None"
   ]
  },
  {
   "cell_type": "code",
   "execution_count": null,
   "metadata": {
    "collapsed": true
   },
   "outputs": [],
   "source": [
    "# The following commented out code generates data_filtered.tsv, which is part of the zip file of this assignment. \n",
    "# If your code is correct the resulting file should be identical to the provided file.\n",
    "# df.to_csv(\"data_filtered_normalized.tsv\", sep=\"\\t\")"
   ]
  },
  {
   "cell_type": "markdown",
   "metadata": {},
   "source": [
    "## Question 2: Viterbi algorithm [50 points]\n",
    "\n",
    "In this question we use the Viterbi algorithm to compute a copy number for each bin. The set $Q$ of hidden states corresponds to integer copy numbers. We consider $Q=\\{0,\\ldots,10\\}$. The set $\\Sigma$ of emitted symbols are normalized read counts. Since this an infinite set, we use a probability distribution function for each integer copy number to define the emission probabilities. Specifically, for copy number $c \\in \\{0,\\ldots,10\\}$ we use a normal distribution with standard deviation $\\sigma = 0.1$ centered around mean $\\mu_c = c / 2$."
   ]
  },
  {
   "cell_type": "code",
   "execution_count": null,
   "metadata": {
    "collapsed": true
   },
   "outputs": [],
   "source": [
    "df_norm = pd.read_table(\"data_filtered_normalized.tsv\", sep=\"\\t\", index_col=0)"
   ]
  },
  {
   "cell_type": "code",
   "execution_count": null,
   "metadata": {
    "collapsed": true
   },
   "outputs": [],
   "source": [
    "df_norm.head()"
   ]
  },
  {
   "cell_type": "code",
   "execution_count": null,
   "metadata": {
    "collapsed": true
   },
   "outputs": [],
   "source": [
    "def gauss(x, mu, sigma, A):\n",
    "    return A*np.exp(-(x-mu)**2/2/sigma**2)\n",
    "\n",
    "values = [val for sublist in [list(df_norm[cell]) for cell in list(df_norm.columns[3:])] for val in sublist]\n",
    "count, bins, ignored = plt.hist(values, 100, density=True)\n",
    "\n",
    "sigma = 0.1\n",
    "\n",
    "plt.plot(np.array([0,.05,.1,.15,.2]),gauss(np.array([0,.05,.1,.15,.2]), 0, sigma, .01),color='black',lw=3,label='copy number 0')\n",
    "plt.plot(bins,gauss(bins, 0.5, sigma, .25),color='red',lw=3,label='copy number 1')\n",
    "plt.plot(bins,gauss(bins, 1, sigma, 1.3),color='blue',lw=3,label='copy number 2')\n",
    "plt.plot(bins,gauss(bins, 1.5, sigma, .7),color='cyan',lw=3,label='copy number 3')\n",
    "plt.plot(bins,gauss(bins, 2, sigma, .25),color='orange',lw=3,label='copy number 4')\n",
    "plt.plot(bins,gauss(bins, 2.5, sigma, .1),color='purple',lw=3,label='copy number 5')\n",
    "plt.plot(bins,gauss(bins, 3, sigma, .05),color='pink',lw=3,label='copy number 6')\n",
    "plt.plot(bins,gauss(bins, 3.5, sigma, .05),color='gray',lw=3,label='copy number 7')\n",
    "plt.plot(bins,gauss(bins, 4, sigma, .05),color='yellow',lw=3,label='copy number 8')\n",
    "plt.plot(bins,gauss(bins, 4.5, sigma, .05),color='pink',lw=3,label='copy number 9')\n",
    "plt.plot(bins,gauss(bins, 5, sigma, .05),color='black',lw=3,label='copy number 10')\n",
    "\n",
    "plt.legend()\n",
    "plt.gcf().set_size_inches(10, 6)"
   ]
  },
  {
   "cell_type": "code",
   "execution_count": null,
   "metadata": {
    "collapsed": true
   },
   "outputs": [],
   "source": [
    "from scipy.stats import norm\n",
    "max_copy_number = 10\n",
    "\n",
    "def emissionLogProb(copy_number, norm_count):\n",
    "    sigma = 0.1\n",
    "    mu = copy_number / 2.\n",
    "\n",
    "    # Compute Pr(|X_c - norm_count| <= 0.01 | c)  \n",
    "    low = norm.cdf(norm_count - 0.01, mu, sigma)\n",
    "    up = norm.cdf(norm_count + 0.01, mu, sigma)\n",
    "    \n",
    "    # prevent probability of 0\n",
    "    prob = max(up - low, 0.0001)\n",
    "    \n",
    "    return np.log(prob)\n",
    "\n",
    "def transitionLogProb(current_copy_number, next_copy_number):\n",
    "    stay_prob = 0.99999\n",
    "    if current_copy_number == next_copy_number:\n",
    "        return np.log(stay_prob)\n",
    "    elif 0 <= next_copy_number <= max_copy_number:\n",
    "        return np.log((1 - stay_prob) / max_copy_number)\n",
    "    else:\n",
    "        return np.log(0)\n",
    "\n",
    "def initialLogProb(copy_number):\n",
    "    if 0 <= copy_number <= max_copy_number:\n",
    "        return np.log(1./11)\n",
    "    else:\n",
    "        return np.log(0)"
   ]
  },
  {
   "cell_type": "markdown",
   "metadata": {},
   "source": [
    "### _Q2a:_ Compute the joint log probability of each cell having copy number 2 in all bins. [10 points]\n",
    "\n",
    "_Hint:_ Make use of the functions `emissionLogProb`, `initialLogProb` and `transitionLogProb`."
   ]
  },
  {
   "cell_type": "code",
   "execution_count": null,
   "metadata": {
    "collapsed": true
   },
   "outputs": [],
   "source": [
    "for cell in list(df_norm.columns[3:]):\n",
    "    log_prob = 0\n",
    "    for idx, norm_count in df_norm[cell].iteritems():\n",
    "        # TODO: insert code here\n",
    "        # Hint: idx == 0 is the initial item.\n",
    "        pass\n",
    "    \n",
    "    print(cell, log_prob)"
   ]
  },
  {
   "cell_type": "markdown",
   "metadata": {},
   "source": [
    "### _Q2b:_ Determine the maximum joint log probability of each cell using the Viterbi algorithm. [20 points]\n",
    "\n",
    "_Hint:_ Complete the function `viterbi` and `max_joint_prob`, making use of the functions `emissionLogProb`, `initialLogProb` and `transitionLogProb`."
   ]
  },
  {
   "cell_type": "code",
   "execution_count": null,
   "metadata": {
    "collapsed": true
   },
   "outputs": [],
   "source": [
    "def viterbi(df_norm, cell):\n",
    "    # Positions\n",
    "    bins = sorted(list(df_norm.index))\n",
    "\n",
    "    # Set of states (copy numbers)\n",
    "    Q = range(max_copy_number+1)\n",
    "    \n",
    "    # Initialization v[copy_number][bin] = 0\n",
    "    v = [ { bin : 0 for bin in bins } for c in range(max_copy_number + 1) ]\n",
    "    \n",
    "    for idx, bin in enumerate(bins):\n",
    "        norm_count = float(df.loc[bin][cell])\n",
    "        \n",
    "        # TODO: insert code here\n",
    "        pass\n",
    "\n",
    "    return v\n",
    "\n",
    "def max_joint_prob(df_norm, v):\n",
    "    # Positions\n",
    "    bins = sorted(list(df_norm.index))\n",
    "    \n",
    "    # Set of states (copy numbers)\n",
    "    Q = range(max_copy_number+1)\n",
    "    last_bin = bins[-1]\n",
    "    \n",
    "    # TODO: insert code here\n",
    "    return None\n",
    "\n",
    "V = {}\n",
    "for cell in list(df_norm.columns[3:]):\n",
    "    V[cell] = viterbi(df_norm, cell)\n",
    "    print(cell, \"--\", \"max prob:\", max_joint_prob(df_norm, V[cell]))"
   ]
  },
  {
   "cell_type": "markdown",
   "metadata": {},
   "source": [
    "### _Q2c:_ Compute the most likely copy number profile for each cell. [10 points]\n",
    "\n",
    "_Hint:_ Hint perform a backtrace or extend the above `viterbi` function to maintain backpointers."
   ]
  },
  {
   "cell_type": "code",
   "execution_count": null,
   "metadata": {
    "collapsed": true
   },
   "outputs": [],
   "source": [
    "def viterbi_bt(df_norm, cell):\n",
    "    # Positions\n",
    "    bins = sorted(list(df_norm.index))\n",
    "\n",
    "    # Set of states (copy numbers)\n",
    "    Q = range(max_copy_number+1)\n",
    "    \n",
    "    # Initialization v[copy_number][bin] = 0\n",
    "    v = [ { bin : 0 for bin in bins } for c in range(max_copy_number + 1) ]\n",
    "    bt = [ { bin : None for bin in bins } for c in range(max_copy_number + 1) ]\n",
    "    \n",
    "    for idx, bin in enumerate(bins):\n",
    "        # TODO: insert code here\n",
    "        pass\n",
    "\n",
    "    return v, bt\n",
    "\n",
    "bins = sorted(list(df_norm.index))\n",
    "Q = range(max_copy_number+1)\n",
    "\n",
    "V = {}\n",
    "BT = {}\n",
    "C = {}\n",
    "for cell in list(df_norm.columns[3:]):\n",
    "    V[cell], BT[cell] = viterbi_bt(df_norm, cell)\n",
    "    C[cell] = {}\n",
    "    \n",
    "    max_prob = max_joint_prob(df_norm, V[cell])\n",
    "    final_c = None\n",
    "    final_bin = bins[-1]\n",
    "    for c in Q:\n",
    "        if V[cell][c][final_bin] == max_prob:\n",
    "            final_c = c\n",
    "    \n",
    "    C[cell][final_bin] = final_c\n",
    "    \n",
    "    for idx in range(len(bins)-2, -1, -1):\n",
    "        bin = bins[idx]\n",
    "        next_bin = bins[idx + 1]\n",
    "        next_bin_c = C[cell][next_bin]\n",
    "        C[cell][bin] = BT[cell][next_bin_c][next_bin]\n",
    "    \n",
    "    print(cell, \"--\", \"max prob:\", max_joint_prob(df_norm, V[cell]))"
   ]
  },
  {
   "cell_type": "markdown",
   "metadata": {},
   "source": [
    "### _Q2d:_ Which cells are normal cells (i.e. have copy number 2 for each bin)? [10 points]\n",
    "\n",
    "_Hint:_ Use `visualizeCopyNumbers(C, bins)`.\n",
    "\n",
    "_Answer:_ XXX"
   ]
  },
  {
   "cell_type": "code",
   "execution_count": null,
   "metadata": {
    "collapsed": true
   },
   "outputs": [],
   "source": [
    "bins = sorted(list(df_norm.index))"
   ]
  },
  {
   "cell_type": "code",
   "execution_count": null,
   "metadata": {
    "collapsed": true
   },
   "outputs": [],
   "source": [
    "def visualizeCopyNumbers(C, bins):\n",
    "    nrRows = 5\n",
    "    nrCols = 4\n",
    "    for idx, cell in enumerate(C):\n",
    "        ax = plt.subplot(nrRows, nrCols, idx+1)\n",
    "        plt.step(range(len(bins)), C[cell].values())\n",
    "        ax.set_title(cell)\n",
    "        ax.set_ylim((0, 10))\n",
    "        ax.set_xlabel(\"bin\")\n",
    "        ax.set_ylabel(\"copy number\")\n",
    "    plt.gcf().set_size_inches(30, 20)\n",
    "    plt.tight_layout()\n",
    "    plt.savefig(\"viterbi.pdf\")"
   ]
  },
  {
   "cell_type": "code",
   "execution_count": null,
   "metadata": {
    "collapsed": true
   },
   "outputs": [],
   "source": [
    "visualizeCopyNumbers(C, bins)"
   ]
  },
  {
   "cell_type": "markdown",
   "metadata": {},
   "source": [
    "### _Q2e -- Bonus:_ Extend the plotting function to delineate chromosomes using vertical lines. Do not forget to update x-axis labels to show chromosomes. [5 points]"
   ]
  },
  {
   "cell_type": "markdown",
   "metadata": {},
   "source": [
    "## Question 3: Forward algorithm [10 points]"
   ]
  },
  {
   "cell_type": "markdown",
   "metadata": {},
   "source": [
    "### _Q3a:_ Compute the marginal log probability of the observations using the forward algorithm. [10 points]\n",
    "_Hint:_ Be aware that recurrence of the forward algorithm includes a summation, but we are operating in log space."
   ]
  },
  {
   "cell_type": "code",
   "execution_count": null,
   "metadata": {
    "collapsed": true
   },
   "outputs": [],
   "source": [
    "def forward(df_norm, cell):\n",
    "    # Positions\n",
    "    bins = sorted(list(df_norm.index))\n",
    "\n",
    "    # Set of states (copy numbers)\n",
    "    Q = range(max_copy_number+1)\n",
    "    \n",
    "    # Initialization f[copy_number][bin] = 0\n",
    "    f = [ { bin : 0 for bin in bins } for c in range(max_copy_number + 1) ]\n",
    "    \n",
    "    for idx, bin in enumerate(bins):\n",
    "        norm_count = float(df.loc[bin][cell])\n",
    "        \n",
    "        # TODO: insert code here\n",
    "        pass\n",
    "\n",
    "    return f\n",
    "\n",
    "def marginal_log_prob(df_norm, f):\n",
    "    # Positions\n",
    "    bins = sorted(list(df_norm.index))\n",
    "    \n",
    "    # Set of states (copy numbers)\n",
    "    Q = range(max_copy_number+1)\n",
    "    last_bin = bins[-1]\n",
    "    \n",
    "    # insert code here\n",
    "    return None\n",
    "\n",
    "F = {}\n",
    "for cell in list(df_norm.columns[3:]):\n",
    "    F[cell] = forward(df_norm, cell)\n",
    "    print(cell, \"--\", \"marginal log prob:\", marginal_log_prob(df_norm, F[cell]))"
   ]
  },
  {
   "cell_type": "markdown",
   "metadata": {},
   "source": [
    "## Question 4: Hierarchical clustering [20 points]\n",
    "The Python package `scipy` implements hierarchical clustering. We will use this method to perform single linkage cluster with the Manhattan (also known as cityblock) distance metric."
   ]
  },
  {
   "cell_type": "code",
   "execution_count": null,
   "metadata": {
    "collapsed": true
   },
   "outputs": [],
   "source": [
    "C_values = [C[cell].values() for cell in C]\n",
    "C_labels = C.keys()"
   ]
  },
  {
   "cell_type": "code",
   "execution_count": null,
   "metadata": {
    "collapsed": true
   },
   "outputs": [],
   "source": [
    "from scipy.cluster import hierarchy\n",
    "Z = hierarchy.linkage(C_values, 'single', 'cityblock')\n",
    "plt.figure()\n",
    "dn = hierarchy.dendrogram(Z, labels=C_labels, leaf_rotation=90)"
   ]
  },
  {
   "cell_type": "markdown",
   "metadata": {},
   "source": [
    "The goal of this question is to reimplement this algorithm. We start by computing the initial distance matrix."
   ]
  },
  {
   "cell_type": "markdown",
   "metadata": {},
   "source": [
    "### _Q4a:_ Compute the initial distance matrix using Manhattan distance. [10 points]"
   ]
  },
  {
   "cell_type": "code",
   "execution_count": null,
   "metadata": {
    "collapsed": true
   },
   "outputs": [],
   "source": [
    "def manhattan(C, cell_1, cell_2, bins):\n",
    "    # TODO: insert code here\n",
    "    return None\n",
    "\n",
    "bins = sorted(list(df_norm.index))\n",
    "dist = {}\n",
    "for cell_1 in C.keys():\n",
    "    dist[cell_1] = {}\n",
    "    for cell_2 in C.keys():\n",
    "        dist[cell_1][cell_2] = manhattan(C, cell_1, cell_2, bins)"
   ]
  },
  {
   "cell_type": "markdown",
   "metadata": {},
   "source": [
    "### _Q4b:_ Implement single linkage clustering. [10 points]\n",
    "_Hint:_ The documentation for the required output format is described here: https://docs.scipy.org/doc/scipy/reference/generated/scipy.cluster.hierarchy.linkage.html#scipy.cluster.hierarchy.linkage"
   ]
  },
  {
   "cell_type": "code",
   "execution_count": null,
   "metadata": {
    "collapsed": true
   },
   "outputs": [],
   "source": [
    "import copy\n",
    "def cluster(distances):\n",
    "    distances = copy.deepcopy(distances)\n",
    "    clusters = set(distances.keys())\n",
    "    n = len(clusters)\n",
    "    cluster2idx = { cell : idx for idx, cell in enumerate(clusters) }\n",
    "    idx2cluster = distances.keys()\n",
    "    Z = np.empty((0, 4), float)\n",
    "    membership = [ set([cluster2idx[cell]]) for cell in clusters ]\n",
    "    while len(clusters) > 1:\n",
    "        # TODO: insert code to identify pair (c1, c2) with minimum distance dist\n",
    "        dist, c1, c2 = None, None, None\n",
    "\n",
    "        idx_c1 = cluster2idx[c1]\n",
    "        idx_c2 = cluster2idx[c2]\n",
    "        new_cluster = n + len(Z)\n",
    "        new_cluster_idx = len(idx2cluster)\n",
    "\n",
    "        membership.append( membership[idx_c1] | membership[idx_c2])\n",
    "        Z = np.append(Z, \n",
    "                      np.array([[cluster2idx[c1], cluster2idx[c2], dist, len(membership[new_cluster_idx])]]), \n",
    "                      axis=0)\n",
    "        \n",
    "        # TODO: insert code to update distances\n",
    "        distances[new_cluster] = {}\n",
    "\n",
    "\n",
    "        clusters.add(new_cluster)\n",
    "        cluster2idx[new_cluster] = len(idx2cluster)\n",
    "        idx2cluster.append(new_cluster)\n",
    "\n",
    "        clusters.remove(c1)\n",
    "        clusters.remove(c2)\n",
    "        \n",
    "    return Z"
   ]
  },
  {
   "cell_type": "code",
   "execution_count": null,
   "metadata": {
    "collapsed": true
   },
   "outputs": [],
   "source": [
    "Z = cluster(dist)\n",
    "plt.figure()\n",
    "dn = hierarchy.dendrogram(Z, labels=C_labels, leaf_rotation=90)"
   ]
  },
  {
   "cell_type": "markdown",
   "metadata": {},
   "source": [
    "### _Q4c -- Bonus:_ Implement complete linkage clustering. [5 points]\n",
    "_Hint:_ The documentation for the required output format is described here: https://docs.scipy.org/doc/scipy/reference/generated/scipy.cluster.hierarchy.linkage.html#scipy.cluster.hierarchy.linkage. Your plot should be identical to the below scipy plot."
   ]
  },
  {
   "cell_type": "code",
   "execution_count": null,
   "metadata": {
    "collapsed": true
   },
   "outputs": [],
   "source": [
    "from scipy.cluster import hierarchy\n",
    "Z = hierarchy.linkage(C_values, 'complete', 'cityblock')\n",
    "plt.figure()\n",
    "dn = hierarchy.dendrogram(Z, labels=C_labels, leaf_rotation=90)"
   ]
  },
  {
   "cell_type": "code",
   "execution_count": null,
   "metadata": {
    "collapsed": true
   },
   "outputs": [],
   "source": []
  }
 ],
 "metadata": {
  "kernelspec": {
   "display_name": "Python 3",
   "language": "python",
   "name": "python3"
  },
  "language_info": {
   "codemirror_mode": {
    "name": "ipython",
    "version": 3
   },
   "file_extension": ".py",
   "mimetype": "text/x-python",
   "name": "python",
   "nbconvert_exporter": "python",
   "pygments_lexer": "ipython3",
   "version": "3.6.3"
  }
 },
 "nbformat": 4,
 "nbformat_minor": 2
}
